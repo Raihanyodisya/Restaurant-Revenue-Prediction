{
  "nbformat": 4,
  "nbformat_minor": 0,
  "metadata": {
    "colab": {
      "provenance": []
    },
    "kernelspec": {
      "name": "python3",
      "display_name": "Python 3"
    },
    "language_info": {
      "name": "python"
    }
  },
  "cells": [
    {
      "cell_type": "code",
      "execution_count": null,
      "metadata": {
        "id": "9o9TY60mqm86"
      },
      "outputs": [],
      "source": []
    },
    {
      "cell_type": "markdown",
      "source": [
        "#**Analisis Penjualan Restoran**\n",
        "\n",
        "##**Business Understanding**\n",
        "\n",
        "Business Objective\n",
        "\n",
        "Analisis dataset tentang penjualan restoran ini adalah untuk memahami faktor-faktor apa yang mempengaruhi kinerja penjualan restoran. Analisis ini penting bagi pemilik restoran untuk mengidentifikasi peluang-peluang untuk meningkatkan pendapatan, meningkatkan efisiensi operasional, dan meningkatkan pengalaman pelanggan.\n",
        "\n",
        "Assess Situation\n",
        "\n",
        "Untuk menilai situasi penjualan restoran, kita harus melihat beberapa faktor yang relevan. Ini termasuk jumlah pelanggan yang datang, harga rata-rata menu, biaya pemasaran, jenis masakan yang ditawarkan, rata-rata pengeluaran pelanggan, promosi yang tersedia, jumlah ulasan, dan pendapatan bulanan restoran. Dengan menjawab pertanyaan-pertanyaan ini, kita bisa mendapatkan gambaran yang lebih jelas tentang kinerja penjualan restoran dan faktor-faktor apa yang berpengaruh.\n",
        "\n",
        "Data Mining Goals\n",
        "\n",
        "1. Pengambilan Keputusan yang Lebih Baik: Informasi yang diperoleh dari dataset dapat membantu pemilik restoran dalam mengambil keputusan yang lebih baik dalam hal strategi pemasaran, pengelolaan inventaris, pengembangan menu, dan layanan pelanggan untuk meningkatkan kinerja penjualan mereka.\n",
        "\n",
        "2. Identifikasi Pola dan Tren: Dengan menganalisis dataset, dapat diidentifikasi pola dan tren dalam kinerja penjualan restoran dari waktu ke waktu. Hal ini membantu dalam memahami bagaimana faktor-faktor tertentu dapat memengaruhi pendapatan bulanan dan jumlah pelanggan.\n",
        "\n",
        "3. Optimalisasi Pengeluaran Pemasaran: Dengan menganalisis efektivitas pengeluaran pemasaran terhadap kinerja penjualan, pemilik restoran dapat mengidentifikasi cara-cara untuk mengoptimalkan anggaran pemasaran mereka sehingga mendapatkan hasil yang maksimal.\n",
        "\n",
        "4. Pemahaman Mendalam: Dataset ini memberikan pemahaman yang lebih dalam tentang berbagai aspek penjualan restoran, seperti jumlah pelanggan, harga menu, pengeluaran pemasaran, jenis masakan, pengeluaran pelanggan, promosi, ulasan, dan pendapatan bulanan.\n",
        "\n",
        "Project Plan\n",
        "\n",
        "Rencana proyek ini mencakup tahapan-tahapan analisis yang komprehensif untuk memahami penjualan restoran. Ini meliputi pemahaman data, analisis deskriptif, penelusuran korelasi antar variabel, segmentasi pelanggan, prediksi pendapatan, evaluasi efektivitas promosi, penyusunan laporan, serta presentasi dan pembahasan implementasi rekomendasi. Setiap tahap dirancang untuk memberikan wawasan yang mendalam tentang faktor-faktor yang mempengaruhi kinerja penjualan restoran, dengan tujuan akhir untuk meningkatkan pendapatan dan kepuasan pelanggan.\n",
        "\n"
      ],
      "metadata": {
        "id": "SkXWpHIv1VBv"
      }
    }
  ]
}